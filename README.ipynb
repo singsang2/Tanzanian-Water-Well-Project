{
 "cells": [
  {
   "cell_type": "markdown",
   "metadata": {},
   "source": [
    "Classification of wells' funcionality in Tanzania."
   ]
  },
  {
   "cell_type": "markdown",
   "metadata": {
    "ExecuteTime": {
     "end_time": "2020-10-20T06:36:51.931186Z",
     "start_time": "2020-10-20T06:36:51.928786Z"
    }
   },
   "source": [
    "# Predicting Water Well Functionality in Tanzania"
   ]
  },
  {
   "cell_type": "markdown",
   "metadata": {
    "ExecuteTime": {
     "end_time": "2020-10-20T16:42:51.547774Z",
     "start_time": "2020-10-20T16:23:18.954270Z"
    }
   },
   "source": [
    "There is no doubt that water is eseential part of human life. Without water, humans cannot last more than 3 days. However, not only the water is crucial in sustaining our lives, but it plays a crucial role in the following aspects of human lives:\n",
    "\n",
    "    [1] Education accessibility\n",
    "    [2] Empowerment to families to overcome poverty\n",
    "    [3] Higher quality of lives\n",
    "    \n",
    "Unfortunately, there are many people in the world who still do not have access to clean water, and, in fact, more than half of the population of Tanzania do not have an easy access to water source. \n",
    "\n",
    "Thankfully, there have been many volunteers and organizations who made movements to correct this and have made a huge different over the years as shown below.\n",
    "\n",
    "<img src='img/cum_num_wells.png'>"
   ]
  },
  {
   "cell_type": "markdown",
   "metadata": {},
   "source": [
    "As you can see from the figure above, there are more than 50,000 water wells installed since 1960. However there is a problem. We notice that more than 40% of the wells installed are either broken or need repair. However, it can be very difficult to determine which wells need repairs due to lack of well-organized managements.\n",
    "\n",
    "So our goal is to make a classification model that successfully determine which wells are in need of repairs so that we would know which aspects of wells lead to malfunction."
   ]
  },
  {
   "cell_type": "markdown",
   "metadata": {},
   "source": [
    "# Data"
   ]
  },
  {
   "cell_type": "markdown",
   "metadata": {},
   "source": [
    "## Provided Dataset"
   ]
  },
  {
   "cell_type": "markdown",
   "metadata": {},
   "source": [
    "The data that was used to train our models was provided by Taarifa and the Tanzanian Ministry of Water. You may also able to download the datasets from https://www.drivendata.org/competitions/7/pump-it-up-data-mining-the-water-table/page/23/. "
   ]
  },
  {
   "cell_type": "markdown",
   "metadata": {},
   "source": [
    "### Dealing with class imbalance"
   ]
  },
  {
   "cell_type": "markdown",
   "metadata": {},
   "source": [
    "This dataset is a ternary classification with class imbalance.\n",
    "\n",
    "    [1] functional = 55.0%\n",
    "    [2] functional but needs repair = 6.83%\n",
    "    [3] non functional = 38.1%\n",
    "    \n",
    "This class imbalance will be dealt by two methods:\n",
    "\n",
    "    [1] SMOTE - oversampling with generated data\n",
    "    [2] class_weight - from sklearn.utils\n",
    "\n",
    "We will prioritize in using `class_weight` over `SMOTE` for `SMOTE` can cause unwanted bias in our dataset by generating more data."
   ]
  },
  {
   "cell_type": "markdown",
   "metadata": {},
   "source": [
    "## Additional Dataset"
   ]
  },
  {
   "cell_type": "markdown",
   "metadata": {},
   "source": [
    "To obtain more geographical information about Tanzania, `geojson` data of Tanzania was obtained from the following website:\n",
    "https://github.com/thadk/GeoTZ"
   ]
  },
  {
   "cell_type": "markdown",
   "metadata": {
    "ExecuteTime": {
     "end_time": "2020-10-20T19:04:27.748700Z",
     "start_time": "2020-10-20T19:04:27.712908Z"
    }
   },
   "source": [
    "## Feature Engineering"
   ]
  },
  {
   "cell_type": "markdown",
   "metadata": {
    "ExecuteTime": {
     "end_time": "2020-10-20T19:26:20.157098Z",
     "start_time": "2020-10-20T19:26:20.153000Z"
    }
   },
   "source": [
    "Detailed exploration for each column was done in `Exploratory Note.ipynb`.\n",
    "\n",
    "In order to maximize the use of our dataset, various columns that were given by the government and Taarifa were dropped and also newly made."
   ]
  },
  {
   "cell_type": "markdown",
   "metadata": {},
   "source": [
    "### Neighboring"
   ]
  },
  {
   "cell_type": "markdown",
   "metadata": {},
   "source": [
    "<img src='img/neighboring.png' width=400>"
   ]
  },
  {
   "cell_type": "markdown",
   "metadata": {},
   "source": [
    "As you can see in the above figure, we see `clusters` of different classes of wells. So a new feature was made that calcuated the percentages of funcionalities of the wells near 30 KM raidus of each well.\n",
    "\n",
    "*The yellow circles do not represent 30KM radius in scaled. It is just there to show the idea!"
   ]
  },
  {
   "cell_type": "markdown",
   "metadata": {},
   "source": [
    "### Percentages for funder, installer, and quantity"
   ]
  },
  {
   "cell_type": "markdown",
   "metadata": {
    "ExecuteTime": {
     "end_time": "2020-10-20T19:31:54.276593Z",
     "start_time": "2020-10-20T19:31:54.273292Z"
    }
   },
   "source": [
    "<img src='img/funders.png' width=600>"
   ]
  },
  {
   "cell_type": "markdown",
   "metadata": {},
   "source": [
    "When we examine `funders` and `installers` (see figure above), it becomes apparent that some funders and installers tend have more particularly classified wells. So for each funders and installers, percentage was found according to their functionality."
   ]
  },
  {
   "cell_type": "markdown",
   "metadata": {
    "ExecuteTime": {
     "end_time": "2020-10-20T19:35:31.966665Z",
     "start_time": "2020-10-20T19:35:31.963121Z"
    }
   },
   "source": [
    "<img src='img/quantity.png' width=600>"
   ]
  },
  {
   "cell_type": "markdown",
   "metadata": {},
   "source": [
    "The same can be said for `quantity` of water."
   ]
  },
  {
   "cell_type": "markdown",
   "metadata": {},
   "source": [
    "### Geographical Factor: Region"
   ]
  },
  {
   "cell_type": "markdown",
   "metadata": {
    "ExecuteTime": {
     "end_time": "2020-10-20T19:37:30.205671Z",
     "start_time": "2020-10-20T19:37:30.202167Z"
    }
   },
   "source": [
    "<img src='img/geographical.png'>"
   ]
  },
  {
   "cell_type": "markdown",
   "metadata": {},
   "source": [
    "Depending on which region, the following could be different:\n",
    "\n",
    "    [1] government funding\n",
    "    [2] regional government body\n",
    "    [3] population\n",
    "    [4] climate / geographical character\n",
    "    [5] amount of water available\n",
    "\n",
    "So these regions were given with percentages of water wells' functionality."
   ]
  },
  {
   "cell_type": "markdown",
   "metadata": {},
   "source": [
    "# Models and Results"
   ]
  },
  {
   "cell_type": "markdown",
   "metadata": {
    "ExecuteTime": {
     "end_time": "2020-10-21T22:26:07.080579Z",
     "start_time": "2020-10-21T22:26:07.076520Z"
    }
   },
   "source": [
    "Some useful codes used throughout the project can be found in `src/useful_codes.py`."
   ]
  },
  {
   "cell_type": "markdown",
   "metadata": {},
   "source": [
    "## Overall Goals"
   ]
  },
  {
   "cell_type": "markdown",
   "metadata": {},
   "source": [
    "Out main goal is to maximize the following metrics:\n",
    "    \n",
    "[1] Recall for `functioning but need repair` and `non funcional` wells\n",
    "    - In the context of this problem, it is imperative that we can detect which wells are either not functioning or in need of repair in order for people in Tanzania to access waterpoints.\n",
    "    \n",
    "[2] Overall accuracy\n",
    "    - Even though recalls are important, it is also important to keep the overall accuracy as high as possible to minimize any unnecessary cost this model can cause.\n",
    "   "
   ]
  },
  {
   "cell_type": "markdown",
   "metadata": {},
   "source": [
    "<img src=\"img/diagram.png\">"
   ]
  },
  {
   "cell_type": "markdown",
   "metadata": {},
   "source": [
    "Source: https://levelup.gitconnected.com/ensemble-learning-using-the-voting-classifier-a28d450be64d?gi=ea3aaf6cf1e8"
   ]
  },
  {
   "cell_type": "markdown",
   "metadata": {},
   "source": [
    "In order to achieve this, we will use various different base models as our first layer of our model. Then we will stack the models to make an unified model that has stronger predictive force compared to individual models from the first layer as shown above.\n",
    "\n",
    "*Note that `voting` in the diagram above could be other form of meta-classifiers."
   ]
  },
  {
   "cell_type": "markdown",
   "metadata": {},
   "source": [
    "## Layer 1 Models"
   ]
  },
  {
   "cell_type": "markdown",
   "metadata": {
    "ExecuteTime": {
     "end_time": "2020-10-20T19:06:22.131178Z",
     "start_time": "2020-10-20T19:06:22.116202Z"
    }
   },
   "source": [
    "The following classifier models were made.\n",
    "\n",
    "    [1] Random Forest\n",
    "    [2] Gradient Boost\n",
    "    [3] Logistic Regression\n",
    "    [4] Extra Tress \n",
    "    [5] Adaboost\n",
    "    [6] XGBoost\n",
    "    \n",
    "We will mix both boosting and bagging algorithms to decrease bias and variance, respectively."
   ]
  },
  {
   "cell_type": "markdown",
   "metadata": {
    "ExecuteTime": {
     "end_time": "2020-10-20T19:08:18.710897Z",
     "start_time": "2020-10-20T19:08:18.708471Z"
    }
   },
   "source": [
    "## Layer 2 Model"
   ]
  },
  {
   "cell_type": "markdown",
   "metadata": {},
   "source": [
    "### Best Accuracy: Adaboost"
   ]
  },
  {
   "cell_type": "markdown",
   "metadata": {
    "ExecuteTime": {
     "end_time": "2020-10-20T19:47:46.507051Z",
     "start_time": "2020-10-20T19:47:46.503453Z"
    }
   },
   "source": [
    "<img src='img/best_accuracy_report.png' width=600>"
   ]
  },
  {
   "cell_type": "markdown",
   "metadata": {
    "ExecuteTime": {
     "end_time": "2020-10-20T19:47:46.507051Z",
     "start_time": "2020-10-20T19:47:46.503453Z"
    }
   },
   "source": [
    "<img src='img/best_accuracy_cm.png'>"
   ]
  },
  {
   "cell_type": "markdown",
   "metadata": {},
   "source": [
    "Layer 1 Models Used: \n",
    "    - All of the layer 1 models were used.\n",
    "    \n",
    "Observations:\n",
    "\n",
    "      [1] Difference between train and test accuracy show a sign that the model might be **overfit**.\n",
    "      [2] Highest accuracy of 81.32 %\n",
    "      [3] Actual competition accuracy of 78.81 %"
   ]
  },
  {
   "cell_type": "markdown",
   "metadata": {},
   "source": [
    "### Best Recall: RF"
   ]
  },
  {
   "cell_type": "markdown",
   "metadata": {
    "ExecuteTime": {
     "end_time": "2020-10-20T19:54:07.867196Z",
     "start_time": "2020-10-20T19:54:07.863584Z"
    }
   },
   "source": [
    "<img src='img/best_recall_report.png' width=600>\n",
    "<img src='img/best_recall_cm.png'>"
   ]
  },
  {
   "cell_type": "markdown",
   "metadata": {},
   "source": [
    "Layer 1 Models Used: \n",
    "    - 'Gradient Boost'\n",
    "    - 'Random Forest'\n",
    "    - 'K-Nearest Neighbor'\n",
    "    - 'Adaboost'\n",
    "    - 'Logistic Regression'\n",
    "    \n",
    "Observations:\n",
    "\n",
    "      [1] Difference between train and test accuracy show a sign that the model might be overfit a 'little'.\n",
    "      [2] Macro recall is 74%\n",
    "      [3] Effective recall is 81% for repair and 84% for nonfunctioning"
   ]
  },
  {
   "cell_type": "markdown",
   "metadata": {
    "ExecuteTime": {
     "end_time": "2020-10-20T19:56:15.549127Z",
     "start_time": "2020-10-20T19:56:15.546509Z"
    }
   },
   "source": [
    "### Feature Importance"
   ]
  },
  {
   "cell_type": "markdown",
   "metadata": {
    "ExecuteTime": {
     "end_time": "2020-10-20T19:56:44.570029Z",
     "start_time": "2020-10-20T19:56:44.565747Z"
    }
   },
   "source": [
    "<img src='img/correlation.png' width=600>"
   ]
  },
  {
   "cell_type": "markdown",
   "metadata": {},
   "source": [
    "Features that positively correlates to `functioning` wells:\n",
    "\n",
    "    [1] Installer - installers with better history\n",
    "    [2] funder - funder with better histotry\n",
    "    [3] water quantity - enough water quantity\n",
    "    [4] Altitude - higher altitude\n",
    "    [5] Payment - Existing payments for water usage\n",
    "    [6] Extractor type - gravity\n",
    "\n",
    "Features that negatively correlates to `functioning` wells:\n",
    "\n",
    "    [1] Water quantity - dry area\n",
    "    [2] Extractor - extractor other than gravity type\n",
    "    [3] Management - managed by VWC (village water committee)\n",
    "    [4] Water point name - water points with names (surprise)\n",
    "    [5] Payment - Lack of payments\n",
    "    [6] Neighboring - more nonfunctioning neighbors\n",
    "    "
   ]
  },
  {
   "cell_type": "markdown",
   "metadata": {
    "ExecuteTime": {
     "end_time": "2020-10-20T19:57:21.589925Z",
     "start_time": "2020-10-20T19:57:21.580831Z"
    }
   },
   "source": [
    "<img src='img/correlation_all.png' width=600>"
   ]
  },
  {
   "cell_type": "markdown",
   "metadata": {},
   "source": [
    "We expected `functional` wells to oppositely correlate to `non functioning` well as shown above. However we notice how it seems `need repair` wells are behaving."
   ]
  },
  {
   "cell_type": "markdown",
   "metadata": {},
   "source": [
    "# Further Studies"
   ]
  },
  {
   "cell_type": "markdown",
   "metadata": {
    "ExecuteTime": {
     "end_time": "2020-10-20T20:05:04.264952Z",
     "start_time": "2020-10-20T20:05:04.260488Z"
    }
   },
   "source": [
    "The follow aspects of the project can be touched for further studies:\n",
    "    \n",
    "    [1] Finer tuning of each model in both layer 1 and 2.\n",
    "    [2] Incorporating more geographical features into the data\n",
    "    [3] Scraping or gathering more complete data\n",
    "    [4] Dealing with class imbalance in an alternative way"
   ]
  },
  {
   "cell_type": "code",
   "execution_count": null,
   "metadata": {},
   "outputs": [],
   "source": []
  }
 ],
 "metadata": {
  "kernelspec": {
   "display_name": "Python [conda env:learn-env] *",
   "language": "python",
   "name": "conda-env-learn-env-py"
  },
  "language_info": {
   "codemirror_mode": {
    "name": "ipython",
    "version": 3
   },
   "file_extension": ".py",
   "mimetype": "text/x-python",
   "name": "python",
   "nbconvert_exporter": "python",
   "pygments_lexer": "ipython3",
   "version": "3.6.9"
  },
  "toc": {
   "base_numbering": 1,
   "nav_menu": {},
   "number_sections": true,
   "sideBar": true,
   "skip_h1_title": false,
   "title_cell": "Table of Contents",
   "title_sidebar": "Contents",
   "toc_cell": false,
   "toc_position": {},
   "toc_section_display": true,
   "toc_window_display": false
  }
 },
 "nbformat": 4,
 "nbformat_minor": 2
}
